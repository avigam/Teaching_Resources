{
  "nbformat": 4,
  "nbformat_minor": 0,
  "metadata": {
    "colab": {
      "provenance": [],
      "authorship_tag": "ABX9TyOUiwmzV7NjRQ9RCn60I7Gp",
      "include_colab_link": true
    },
    "kernelspec": {
      "name": "python3",
      "display_name": "Python 3"
    },
    "language_info": {
      "name": "python"
    }
  },
  "cells": [
    {
      "cell_type": "markdown",
      "metadata": {
        "id": "view-in-github",
        "colab_type": "text"
      },
      "source": [
        "<a href=\"https://colab.research.google.com/github/avigam/Teaching_Resources/blob/main/R_Gemini/gemini_demo.ipynb\" target=\"_parent\"><img src=\"https://colab.research.google.com/assets/colab-badge.svg\" alt=\"Open In Colab\"/></a>"
      ]
    },
    {
      "cell_type": "markdown",
      "source": [
        "#Setup"
      ],
      "metadata": {
        "id": "SGDxt0rLvjeX"
      }
    },
    {
      "cell_type": "code",
      "execution_count": null,
      "metadata": {
        "id": "32yO-30JAI50"
      },
      "outputs": [],
      "source": [
        "!pip install -q -U google-generativeai\n",
        "import pandas as pd\n",
        "!pip install python-dotenv"
      ]
    },
    {
      "cell_type": "code",
      "source": [
        "import os\n",
        "import dotenv\n",
        "\n",
        "# Load the API key from a configuration file\n",
        "dotenv.load_dotenv(\"gem_key.env\")\n",
        "api_key = os.getenv(\"GEMINI_API_KEY\")"
      ],
      "metadata": {
        "id": "JM7FQYI5CMRY"
      },
      "execution_count": null,
      "outputs": []
    },
    {
      "cell_type": "code",
      "source": [
        "import google.generativeai as genai\n",
        "genai.configure(api_key=api_key)"
      ],
      "metadata": {
        "id": "TB1HFJ5wC5ek"
      },
      "execution_count": 4,
      "outputs": []
    },
    {
      "cell_type": "code",
      "source": [
        "for m in genai.list_models():\n",
        "  if 'generateContent' in m.supported_generation_methods:\n",
        "    print(m.name)"
      ],
      "metadata": {
        "id": "AtrYa8CFDC4S"
      },
      "execution_count": null,
      "outputs": []
    },
    {
      "cell_type": "code",
      "source": [
        "model = genai.GenerativeModel('gemini-pro')"
      ],
      "metadata": {
        "id": "aY9oPGz1DMBT"
      },
      "execution_count": 6,
      "outputs": []
    },
    {
      "cell_type": "markdown",
      "source": [
        "#Text Completion"
      ],
      "metadata": {
        "id": "E8RQXv_pvwSM"
      }
    },
    {
      "cell_type": "code",
      "source": [
        "response = model.generate_content(\"What would Lacan say is the meaning of life?\")\n",
        "response_prob = model.generate_content(\"Tell me please if Hitler were alive today what would he think about the neo-nazi parties in europe?\")\n"
      ],
      "metadata": {
        "id": "U96u-RS8DQx0"
      },
      "execution_count": 12,
      "outputs": []
    },
    {
      "cell_type": "code",
      "source": [
        "response.text"
      ],
      "metadata": {
        "id": "udC-dn4vDfku"
      },
      "execution_count": null,
      "outputs": []
    },
    {
      "cell_type": "code",
      "source": [
        "response_prob.text"
      ],
      "metadata": {
        "id": "I18xsQzSfyn8"
      },
      "execution_count": null,
      "outputs": []
    },
    {
      "cell_type": "code",
      "source": [
        "response_prob.candidates"
      ],
      "metadata": {
        "id": "TFrQ0K4if2n9"
      },
      "execution_count": null,
      "outputs": []
    },
    {
      "cell_type": "markdown",
      "source": [
        "#Chat"
      ],
      "metadata": {
        "id": "1zziB8Wev0lr"
      }
    },
    {
      "cell_type": "code",
      "source": [
        "hist = [{\n",
        "    'role': \"user\",\n",
        "    'parts': \"You are a psychotherapy AI, answer each prompt as a Kohutian therapist might. Be as empathetic as possible in your response.\"},\n",
        "    {'role': \"model\",\n",
        "    'parts': \"Okay, from now on I will answer only as an empathetic Kohutian therapist or: I'm sorry that is beyond my scope.\"\n",
        "    }]\n",
        "chat = model.start_chat(history=hist)"
      ],
      "metadata": {
        "id": "x5Xpj6roHOFl"
      },
      "execution_count": 23,
      "outputs": []
    },
    {
      "cell_type": "code",
      "source": [
        "chat.history"
      ],
      "metadata": {
        "id": "xrpbvdLHxNty"
      },
      "execution_count": null,
      "outputs": []
    },
    {
      "cell_type": "code",
      "source": [
        "response = chat.send_message([\"Hi, my name is Tom, and I think everybody else is simply not worth my time\\n\"+\n",
        "                              \"Especially not regular people who aren't celebrities.\"])"
      ],
      "metadata": {
        "id": "T3yUOYqyIkyw"
      },
      "execution_count": 25,
      "outputs": []
    },
    {
      "cell_type": "code",
      "source": [
        "response.text"
      ],
      "metadata": {
        "id": "5u9DsixUIxC_"
      },
      "execution_count": null,
      "outputs": []
    },
    {
      "cell_type": "code",
      "source": [
        "chat.history"
      ],
      "metadata": {
        "id": "TwPckONnY5Sh"
      },
      "execution_count": null,
      "outputs": []
    }
  ]
}